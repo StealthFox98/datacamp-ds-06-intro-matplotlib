{
 "cells": [
  {
   "cell_type": "markdown",
   "id": "9182e1ea-d948-496d-9800-1a1a1a550742",
   "metadata": {
    "id": "f9e13780-fcf2-4e66-8958-b47802dead91"
   },
   "source": [
    "# Chapter 6. Introduction to Data Visualization with Matplotlib"
   ]
  },
  {
   "cell_type": "markdown",
   "id": "98c09c80",
   "metadata": {},
   "source": [
    "Data visualizations let you derive insights from data and let you communicate about the data with others. Matplotlib is a Python library that is widely used to visualize data.\n",
    "\n",
    "Although there are many software libraries that visualize data, one of the main advantages of Matplotlib is that it gives you complete control over the properties of your plot. This allows you to customize and control the precise properties of your visualizations. "
   ]
  },
  {
   "cell_type": "markdown",
   "id": "25809963-a7d3-496f-aa53-ecfca36306a9",
   "metadata": {},
   "source": [
    "# 6.1 Introduction to Matplotlib"
   ]
  },
  {
   "cell_type": "markdown",
   "id": "58df8791",
   "metadata": {},
   "source": [
    "- There are many different ways to use Matplotlib. In this course, we will use the main object-oriented interface.\n",
    "- Interface is provided through the ``pyplot`` submodule. Here, we import this submodule and name it ``plt``.`\n",
    "- The ``plt.subplots`` command, when called without any inputs, creates two different objects: a Figure object and an Axes object.\n",
    "   - Figure object (``fig``) is a container that holds everything that you see on the page.\n",
    "   - Axes (``ax``) is the part of the page that holds the data. It is the canvas on which we will draw with our data, to visualize it.\n",
    "\n",
    "```\n",
    "import matplotlib.pyplot as plt\n",
    "fig, ax = plt.subplots()\n",
    "\n",
    "```"
   ]
  },
  {
   "cell_type": "markdown",
   "id": "ea98f75b",
   "metadata": {},
   "source": [
    "## Adding data to axes\n",
    "\n",
    "- To add the data to the Axes, we call a plotting command.\n",
    "   - The plotting commands are methods of the Axes object.\n",
    "- Plotting command: ``ax.plot()``\n",
    "- Function to show the effect of plotting command: ``plt.show()``\n",
    "\n",
    "```\n",
    "ax.plot(df['column_1'], df['column_2'])\n",
    "plt.show()\n",
    "```"
   ]
  },
  {
   "cell_type": "markdown",
   "id": "b6bac663",
   "metadata": {},
   "source": [
    "## Adding more data to the plot\n",
    "\n",
    "- You can add more data to the same plot.\n",
    "```\n",
    "import matplotlib.pyplot as plt\n",
    "fig, ax = plt.subplots()\n",
    "ax.plot(df1['column_1'], df1['column_2'])\n",
    "ax.plot(df2['column_1'], df2['column_2'])\n",
    "plt.show()\n",
    "\n",
    "```"
   ]
  },
  {
   "cell_type": "markdown",
   "id": "9112eaaf",
   "metadata": {},
   "source": [
    "## Customizing plots (appearance)"
   ]
  },
  {
   "cell_type": "markdown",
   "id": "40c780b6",
   "metadata": {},
   "source": [
    "### Markers\n",
    "   - The plot method takes an optional keyword argument, marker, which lets you indicate that you are interested in adding markers to the plot and also what kind of markers you'd like.\n",
    "   - To see all the possible marker styles, you can visit this [page](https://matplotlib.org/stable/api/markers_api.html) in the Matplotlib online documentation.\n",
    "```\n",
    "import matplotlib.pyplot as plt\n",
    "fig, ax = plt.subplots()\n",
    "ax.plot(df1['column_1'],\n",
    "        df1['column_2'],\n",
    "        marker=\"o\")\n",
    "plt.show()\n",
    "```"
   ]
  },
  {
   "cell_type": "markdown",
   "id": "b7ce0cf2",
   "metadata": {},
   "source": [
    "### Setting the linestyle\n",
    "   - Changes the appearance of the connecting lines.\n",
    "   - This is done by adding the ``linestyle`` keyword argument.\n",
    "```\n",
    "import matplotlib.pyplot as plt\n",
    "fig, ax = plt.subplots()\n",
    "ax.plot(df1['column_1'],\n",
    "        df1['column_2'],\n",
    "        marker=\"o\")\n",
    "plt.show()\n",
    "```"
   ]
  },
  {
   "cell_type": "markdown",
   "id": "9ca6e3db",
   "metadata": {},
   "source": [
    "### Changing color\n",
    "   - We use the argument ``color``\n",
    "```\n",
    "import matplotlib.pyplot as plt\n",
    "fig, ax = plt.subplots()\n",
    "ax.plot(df1['column_1'],\n",
    "        df1['column_2'],\n",
    "        marker=\"v\",\n",
    "        color='b')\n",
    "plt.show()\n",
    "```"
   ]
  },
  {
   "cell_type": "markdown",
   "id": "e0898cc6",
   "metadata": {},
   "source": [
    "### Eliminating lines\n",
    "   - To eliminate the lines altogether using ``linestyle``\n",
    "```\n",
    "import matplotlib.pyplot as plt\n",
    "fig, ax = plt.subplots()\n",
    "ax.plot(df1['column_1'],\n",
    "        df1['column_2'],\n",
    "        marker=\"v\", linestyle=\"None\")\n",
    "plt.show()\n",
    "```"
   ]
  },
  {
   "cell_type": "markdown",
   "id": "d3122aed",
   "metadata": {},
   "source": [
    "### Customizing the axes labels and title\n",
    "   - If you want your visualizations to communicate properly you need to always label the axes.\n",
    "   - In addition to the plot method, the Axes object has several methods that start with ``set.``\n",
    "      - These are methods that you can use to change certain properties of the object, before calling ``show`` to display it.\n",
    "```\n",
    "import matplotlib.pyplot as \n",
    "fig, ax = plt.subplots()\n",
    "ax.plot(df1['column_1'],\n",
    "        df1['column_2'],\n",
    "        marker=\"v\", linestyle=\"None\")\n",
    "ax.set_xlabel(\"Title for X axis\")\n",
    "ax.set_ylabel(\"Title for Y axis\")\n",
    "ax.set_title(\"Name of the plot\")\n",
    "plt.show()\n",
    "```"
   ]
  },
  {
   "cell_type": "markdown",
   "id": "dc5544eb",
   "metadata": {},
   "source": [
    "## Subplots (Small multiples)"
   ]
  },
  {
   "cell_type": "markdown",
   "id": "6ed9800c",
   "metadata": {},
   "source": [
    "In some cases, adding more data to a plot can make the plot too busy, obscuring patterns rather than revealing them.\n",
    "\n",
    "One way to overcome this kind of mess is to use what are called small multiples. These are multiple small plots that show similar data across different conditions. "
   ]
  },
  {
   "cell_type": "markdown",
   "id": "405c9dff",
   "metadata": {},
   "source": [
    "### Small multiples with ``plt.subplots``\n",
    "\n",
    "- In Matplotlib, small multiples are called sub-plots. That is also the reason that the function that creates these is called ``subplots()``.\n",
    "- Small multiples are typically arranged on the page as a grid with rows and columns.\n",
    "```\n",
    "import matplotlib.pyplot as plt\n",
    "fig, ax = plt.subplots(3,2) # 3 rows, 2 columns\n",
    "plt.show()\n",
    "```"
   ]
  },
  {
   "cell_type": "markdown",
   "id": "8ec44983",
   "metadata": {},
   "source": [
    "### Adding data to subplots\n",
    "\n",
    "- To add data, we would now have to index into this object and call the plot method on an element of the array.\n",
    "```\n",
    "import matplotlib.pyplot as plt\n",
    "fig, ax = plt.subplots(3,2) # 3 rows, 2 columns\n",
    "ax[0, 0].plot(df1['column_1'], \n",
    "              df1['column_2'],\n",
    "              marker=\"v\", linestyle=\"None\")\n",
    "plt.show()\n",
    "```\n",
    "- SPECIAL CASE: Only one row or only one column of plots\n",
    "   - In this case, the resulting array will be one-dimensional and you will only have to provide one index to access the elements of this array.\n",
    "   - We can add a y-axis label to each one of these. \n",
    "   - Because they are one on top of the other, we only add an x-axis label to the bottom plot, by addressing only the second element in the array of Axes objects.\n",
    "   - To make sure that all the subplots have the same range of y-axis values, we initialize the figure and its subplots with the key-word argument ``sharey`` set to ``True``.\n",
    "      - This means that both subplots will have the same range of y-axis values, based on the data from both datasets.\n",
    "      - Used for comparisons\n",
    "```\n",
    "fig, ax = plt.subplots(2,1, sharey=True) # 2 rows, 1 columns\n",
    "ax[0].plot(df1['column_1'], \n",
    "           df1['column_2'],\n",
    "           marker=\"o\", linestyle=\"None\")\n",
    "ax[0].plot(df2['column_1'], \n",
    "           df2['column_3'],\n",
    "           marker=\"o\", linestyle=\"None\")\n",
    "ax[1].plot(df2['column_1'], \n",
    "           df2['column_2'],\n",
    "           marker=\"v\")\n",
    "ax[1].plot(df2['column_1'], \n",
    "           df2['column_3'],\n",
    "           marker=\"v\")\n",
    "ax[0].set_ylabel(\"Title for Y axis, first plot\")\n",
    "ax[1].set_ylabel(\"Title for Y axis, second plot\")\n",
    "ax[1].set_xlabel(\"Title for X axis\")\n",
    "ax.set_title(\"Name of the plot\")\n",
    "plt.show()\n",
    "```"
   ]
  },
  {
   "cell_type": "markdown",
   "id": "aa1da2ca",
   "metadata": {},
   "source": [
    "# 6.2 Plotting time-series"
   ]
  },
  {
   "cell_type": "markdown",
   "id": "7459989f",
   "metadata": {},
   "source": [
    "Many kinds of data are organized as time-series, and visualizations of time-series are an excellent tool to detect patterns in the data.\n",
    "- Continuous variables, such as precipitation or temperatures are organized in our data table according to a time-variable\n",
    "\n",
    " If we want pandas to recognize that a dataset is a time-series, we'll need to tell it to parse the \"date\" column as a date."
   ]
  },
  {
   "cell_type": "markdown",
   "id": "abfc0f7e",
   "metadata": {},
   "source": [
    "## DateTimeIndex\n",
    "\n",
    "- To use the full power of pandas indexing facilities, we'll also designate the date column as our index by using the ``.index`` key-word argument.\n",
    "```\n",
    "dataframe.index\n",
    "```"
   ]
  },
  {
   "cell_type": "markdown",
   "id": "40e03e29",
   "metadata": {},
   "source": [
    "## Time-series data\n",
    "\n",
    "- The other columns in the data are stored as regular columns of the DataFrame with a floating point data-type, which will allow us to calculate on them as continuous variables.\n",
    "```\n",
    "dataframe['column_1']\n",
    "dataframe['column_2']\n",
    "```"
   ]
  },
  {
   "cell_type": "markdown",
   "id": "fed59a37",
   "metadata": {},
   "source": [
    "## Plotting time-series data\n",
    "\n",
    "1. To start plotting the data, we import Matplotlib and create a Figure and Axes.\n",
    "2. Next, we add the data to the plot. We add the index of our DataFrame for the x-axis and the \"co2\" column for the y-axis. We also label the x- and y-axes.\n",
    "3. Matplotlib automatically chooses to show the time on the x-axis as years, with intervals of 10 years.\n",
    "\n",
    "```\n",
    "import matplotlib.pyplot as plt\n",
    "fig, ax = plt.subplots()\n",
    "ax.plot(dataframe.index, dataframe['column_1'])\n",
    "ax.set_xlabel('Time')\n",
    "ax.set_ylabel('CO2 (ppm)')\n",
    "plt.show()\n",
    "```"
   ]
  },
  {
   "cell_type": "markdown",
   "id": "285cd080",
   "metadata": {},
   "source": [
    "### Zooming in on a decade\n",
    "\n",
    "- We can select a decade of the data by slicing into the DataFrame with two strings that delimit the start date and end date of the period that we are interested in.\n",
    "- When we do that, we get the plot of a part of the time-series encompassing only ten years worth of data.\n",
    "- Matplotlib also now knows to label the x-axis ticks with years, with an interval of one year between ticks.\n",
    "\n",
    "```\n",
    "import matplotlib.pyplot as plt\n",
    "\n",
    "sixties = dataframe[\"1960-01-01\":\"1969-12-31\"]\n",
    "\n",
    "fig, ax = plt.subplots()\n",
    "ax.plot(sixties.index, sixties['column_1'])\n",
    "ax.set_xlabel('Time')\n",
    "ax.set_ylabel('CO2 (ppm)')\n",
    "plt.show()\n",
    "```"
   ]
  },
  {
   "cell_type": "markdown",
   "id": "b29c081f",
   "metadata": {},
   "source": [
    "### Zooming in on one year\n",
    "\n",
    "- we can select the data from one year.\n",
    "- Now the x-axis automatically denotes the months within that year.\n",
    "\n",
    "```\n",
    "import matplotlib.pyplot as plt\n",
    "\n",
    "sixty_nine = dataframe[\"1969-01-01\":\"1969-12-31\"]\n",
    "\n",
    "fig, ax = plt.subplots()\n",
    "ax.plot(sixty_nine.index, sixty_nine['column_1'])\n",
    "ax.set_xlabel('Time')\n",
    "ax.set_ylabel('CO2 (ppm)')\n",
    "plt.show()\n",
    "```"
   ]
  },
  {
   "cell_type": "markdown",
   "id": "99fc8258",
   "metadata": {},
   "source": [
    "## Plotting time-series with different variables\n",
    "\n",
    "- To relate two time-series that coincide in terms of their times, but record the values of different variables, we might want to plot them on the same Axes.\n",
    "- We're going to plot them in the same sub-plot, using two different y-axis scales.\n",
    "\n",
    "```\n",
    "# Plotting two time-series toghether (same scale for both, not OK)\n",
    "import matplotlib.pyplot as plt\n",
    "fig, ax = plt.subplots()\n",
    "ax.plot(dataframe.index, dataframe['column_1'])\n",
    "ax.plot(dataframe.index, dataframe['column_2'])\n",
    "ax.set_xlabel('Time')\n",
    "ax.set_ylabel('CO2 (ppm) / Relative temprature')\n",
    "plt.show()\n",
    "```\n",
    "\n",
    "```\n",
    "# Plotting two time-series toghether (different scale given that they are different measurements)\n",
    "import matplotlib.pyplot as plt\n",
    "fig, ax = plt.subplots()\n",
    "ax.plot(dataframe.index, dataframe['column_1'])\n",
    "ax.set_xlabel('Time')\n",
    "ax.set_ylabel('CO2 (ppm)')\n",
    "\n",
    "ax2 = ax.twinx()\n",
    "ax2.plot(dataframe.index, dataframe['column_2'])\n",
    "ax2.set_ylabel('Relative temprature (Celsius)')\n",
    "\n",
    "plt.show()\n",
    "```"
   ]
  },
  {
   "cell_type": "markdown",
   "id": "7291bfa3",
   "metadata": {},
   "source": [
    "### Separating variables by color\n",
    "\n",
    "- To separate the variables, we'll encode each one with a different color.\n",
    "- We add color to the first variable, using the ``color`` key-word argument in the call to the ``plot`` function.\n",
    "- We also set the ``color`` in our call to the ``set_ylabel`` function.\n",
    "\n",
    "```\n",
    "import matplotlib.pyplot as plt\n",
    "fig, ax = plt.subplots()\n",
    "ax.plot(dataframe.index, dataframe['column_1'], color='blue')\n",
    "ax.set_xlabel('Time')\n",
    "ax.set_ylabel('CO2 (ppm)', color='blue')\n",
    "\n",
    "ax2 = ax.twinx()\n",
    "ax2.plot(dataframe.index, dataframe['column_2'], color='red')\n",
    "ax2.set_ylabel('Relative temprature (Celsius)', color='red')\n",
    "\n",
    "plt.show()\n",
    "```"
   ]
  },
  {
   "cell_type": "markdown",
   "id": "71c3b03c",
   "metadata": {},
   "source": [
    "### Coloring the ticks\n",
    "\n",
    "- We can make encoding by color even more distinct by setting not only the color of the y-axis labels but also the y-axis ticks and the y-axis tick labels.\n",
    "- This is done by adding a call to the ``tick_params`` method.\n",
    "   - This method takes either y or x as its first argument, pointing to the fact that we are modifying the parameters of the y-axis ticks and tick labels.\n",
    "   - To change their color, we use the ``colors`` key-word argument\n",
    "- Similarly, we call the tick-underscore-params method from the twin Axes object\n",
    "\n",
    "```\n",
    "import matplotlib.pyplot as plt\n",
    "fig, ax = plt.subplots()\n",
    "ax.plot(dataframe.index, dataframe['column_1'], color='blue')\n",
    "ax.set_xlabel('Time')\n",
    "ax.set_ylabel('CO2 (ppm)', color='blue')\n",
    "ax.tick_params('y', colors='blue')\n",
    "\n",
    "ax2 = ax.twinx()\n",
    "ax2.plot(dataframe.index, dataframe['column_2'], color='red')\n",
    "ax2.set_ylabel('Relative temprature (Celsius)', color='red')\n",
    "ax2.tick_params('y', colors='red')\n",
    "\n",
    "plt.show()\n",
    "```"
   ]
  },
  {
   "cell_type": "markdown",
   "id": "81503bbc",
   "metadata": {},
   "source": [
    "### A function that plots time-series and how to implement it\n",
    "\n",
    "- The funtion itself\n",
    "```\n",
    "def plot_timeseries(axes, x, y, color, xlabel, ylabel):\n",
    "    axes.plot(x, y, color=color)\n",
    "    axes.set_xlabel(xlavel)\n",
    "    axes.set_ylabel(ylabel, color=color)\n",
    "    axes.tick_params('y', colors=color)\n",
    "```\n",
    "- Using the function\n",
    "```\n",
    "import matplotlib.pyplot as plt\n",
    "fig, ax = plt.subplots()\n",
    "plot_timeseries(ax, dataframe.index, dataframe['column_1'], 'blue', 'Time', 'CO2 (ppm)')\n",
    "ax2 = ax.twinx()\n",
    "plot_timeseries(ax2, dataframe.index, dataframe['column_2'], 'red', 'Time', 'Relative temprature (Celsius)')\n",
    "plt.show()\n",
    "```"
   ]
  },
  {
   "cell_type": "markdown",
   "id": "e566c220",
   "metadata": {},
   "source": [
    "## Annotating time-series data\n",
    "\n",
    "One important way to enhance a visualization is to add annotations. Annotations are usually small pieces of text that refer to a particular part of the visualization, focusing our attention on some feature of the data and explaining this feature.\n",
    "\n",
    "When presenting it, you might want to focus attention on a particular aspect of this data."
   ]
  },
  {
   "cell_type": "markdown",
   "id": "d32fbfd2",
   "metadata": {},
   "source": [
    "### Annotation\n",
    "\n",
    "- One way to draw attention to part of a plot is by annotating it. \n",
    "- This means drawing an arrow that points to part of the plot and being able to include text to explain it.\n",
    "\n",
    "```\n",
    "import matplotlib.pyplot as plt\n",
    "fig, ax = plt.subplots()\n",
    "plot_timeseries(ax, dataframe.index, dataframe['column_1'], 'blue', 'Time', 'CO2 (ppm)')\n",
    "ax2 = ax.twinx()\n",
    "plot_timeseries(ax2, dataframe.index, dataframe['column_2'], 'red', 'Time', 'Relative temprature (Celsius)')\n",
    "ax2.annotate(\">1 degree\", xy=(pd.Timestamp(\"2015-10-06\"), 1)) # first date in which the relative temperature exceeded 1 degree Celsius was October 6th, 2015.\n",
    "plt.show()\n",
    "```"
   ]
  },
  {
   "cell_type": "markdown",
   "id": "766c9061",
   "metadata": {},
   "source": [
    "### Positioning the text\n",
    "\n",
    "- The annotate method takes an optional xy text argument that selects the xy position of the text.\n",
    "- This means drawing an arrow that points to part of the plot and being able to include text to explain it.\n",
    "\n",
    "```\n",
    "import matplotlib.pyplot as plt\n",
    "fig, ax = plt.subplots()\n",
    "plot_timeseries(ax, dataframe.index, dataframe['column_1'], 'blue', 'Time', 'CO2 (ppm)')\n",
    "ax2 = ax.twinx()\n",
    "plot_timeseries(ax2, dataframe.index, dataframe['column_2'], 'red', 'Time', 'Relative temprature (Celsius)')\n",
    "ax2.annotate(\">1 degree\", \n",
    "             xy=(pd.Timestamp(\"2015-10-06\"), 1), # first date in which the relative temperature exceeded 1 degree Celsius was October 6th, 2015.\n",
    "             xytext=(pd.Timestamp(\"2015-10-06\"), -0.2)) # an \"x\" value of October 6th, 2008 and a \"y\" value of negative 0-point-2 degrees is a good place to put the text.\n",
    "plt.show()\n",
    "```"
   ]
  },
  {
   "cell_type": "markdown",
   "id": "b85f9dff",
   "metadata": {},
   "source": [
    "### Adding arrows to annotation\n",
    "\n",
    "- To connect between the annotation text and the annotated data, we can add an arrow.\n",
    "- The key-word argument to do this is called ``arrowprops``, which stands for arrow properties.`\n",
    "   - This key-word argument takes as input a dictionary that defines the properties of the arrow that we would like to use.\n",
    "   - If we pass an empty dictionary into the key-word argument, the arrow will have the default properties\n",
    "\n",
    "```\n",
    "import matplotlib.pyplot as plt\n",
    "fig, ax = plt.subplots()\n",
    "plot_timeseries(ax, dataframe.index, dataframe['column_1'], 'blue', 'Time', 'CO2 (ppm)')\n",
    "ax2 = ax.twinx()\n",
    "plot_timeseries(ax2, dataframe.index, dataframe['column_2'], 'red', 'Time', 'Relative temprature (Celsius)')\n",
    "ax2.annotate(\">1 degree\", \n",
    "             xy=(pd.Timestamp(\"2015-10-06\"), 1), # first date in which the relative temperature exceeded 1 degree Celsius was October 6th, 2015.\n",
    "             xytext=(pd.Timestamp(\"2015-10-06\"), -0.2), # an \"x\" value of October 6th, 2008 and a \"y\" value of negative 0-point-2 degrees is a good place to put the text.\n",
    "             arrowprops={})\n",
    "plt.show()\n",
    "```"
   ]
  },
  {
   "cell_type": "markdown",
   "id": "7e361720",
   "metadata": {},
   "source": [
    "### Customizing arrow properties\n",
    "\n",
    "- We can also customize the appearance of the arrow.\n",
    "- In this [link](https://matplotlib.org/stable/users/explain/text/annotations.html) you can access the documentation for annotations\n",
    "\n",
    "```\n",
    "import matplotlib.pyplot as plt\n",
    "fig, ax = plt.subplots()\n",
    "plot_timeseries(ax, dataframe.index, dataframe['column_1'], 'blue', 'Time', 'CO2 (ppm)')\n",
    "ax2 = ax.twinx()\n",
    "plot_timeseries(ax2, dataframe.index, dataframe['column_2'], 'red', 'Time', 'Relative temprature (Celsius)')\n",
    "ax2.annotate(\">1 degree\", \n",
    "             xy=(pd.Timestamp(\"2015-10-06\"), 1), # first date in which the relative temperature exceeded 1 degree Celsius was October 6th, 2015.\n",
    "             xytext=(pd.Timestamp(\"2015-10-06\"), -0.2), # an \"x\" value of October 6th, 2008 and a \"y\" value of negative 0-point-2 degrees is a good place to put the text.\n",
    "             arrowprops={\"arrowstyle\":\"->\", \"color\":\"gray\"})\n",
    "plt.show()\n",
    "```"
   ]
  },
  {
   "cell_type": "markdown",
   "id": "8619a2c9",
   "metadata": {},
   "source": [
    "# 6.3 Quantitative comparisons and statistical visualizations"
   ]
  },
  {
   "cell_type": "markdown",
   "id": "6cb6b882",
   "metadata": {},
   "source": [
    "## Bar charts\n",
    "\n",
    "Bar-charts show us the value of a variable in different conditions.\n",
    "\n",
    "- This is how you plot a bar chart for data from a DataFrame\n",
    "\n",
    " ```\n",
    " df = pd.read_csv('file.csv', index_col=0)\n",
    "\n",
    "import matplotlib.pyplot as plt\n",
    "fig, ax = plt.subplots()\n",
    "ax.bar(df.index, df['column_1'])\n",
    "plt.show()\n",
    " ```"
   ]
  },
  {
   "cell_type": "markdown",
   "id": "816c7b8a",
   "metadata": {},
   "source": [
    "### Rotate the tick labels\n",
    "\n",
    "- Using the method: ``ax.set_xticklabels()``\n",
    "\n",
    " ```\n",
    " df = pd.read_csv('file.csv', index_col=0)\n",
    "\n",
    "import matplotlib.pyplot as plt\n",
    "fig, ax = plt.subplots()\n",
    "ax.bar(df.index, df['column_1'])\n",
    "ax.set_xticklabels(df.index, rotation=90)\n",
    "ax.set_ylabel(\"Number of medals\")\n",
    "plt.show()\n",
    " ```"
   ]
  },
  {
   "cell_type": "markdown",
   "id": "79f16090",
   "metadata": {},
   "source": [
    "### Visualizing other data\n",
    "\n",
    "1. To add this information into the same plot, we'll create a stacked bar chart.\n",
    "2. This means that each new data will be stacked on top of the previous data.\n",
    "3. Next, we add another call to the bar method to add the data from other column\n",
    "4. We add the ``bottom`` key-word argument to tell Matplotlib that the bottom of this column's data should be at the height of the previous column's data.\n",
    "\n",
    " ```\n",
    " df = pd.read_csv('file.csv', index_col=0)\n",
    "\n",
    "import matplotlib.pyplot as plt\n",
    "fig, ax = plt.subplots()\n",
    "ax.bar(df.index, df['column_1'])\n",
    "ax.bar(df.index, df['column_2'], bottom=df['column_1])\n",
    "ax.bar(df.index, df['column_3'], bottom=df['column_1] + df['column_2'])\n",
    "ax.set_xticklabels(df.index, rotation=90)\n",
    "ax.set_ylabel(\"Number of medals\")\n",
    "plt.show()\n",
    " ```"
   ]
  },
  {
   "cell_type": "markdown",
   "id": "44ea943e",
   "metadata": {},
   "source": [
    "### Adding a legend\n",
    "\n",
    "- To make this figure easier to read and understand, we would also like to label which color corresponds to which column from the DataFrame.\n",
    "   1. The first is to add the ``label`` key-word argument to each call of the ``bar`` method with the label for the bars plotted in this call.\n",
    "   2. The second is to add a call to the Axes legend method before calling show.\n",
    "      - This adds in a legend that tells us which color stands for which from the DataFrame.\n",
    "\n",
    " ```\n",
    " df = pd.read_csv('file.csv', index_col=0)\n",
    "\n",
    "import matplotlib.pyplot as plt\n",
    "fig, ax = plt.subplots()\n",
    "ax.bar(df.index, df['column_1'], label=\"column_1\")\n",
    "ax.bar(df.index, df['column_2'], bottom=df['column_1], label=\"column_2\")\n",
    "ax.bar(df.index, df['column_3'], bottom=df['column_1] + df['column_2'], label=\"column_3\")\n",
    "ax.set_xticklabels(df.index, rotation=90)\n",
    "ax.set_ylabel(\"Number of medals\")\n",
    "plt.show()\n",
    " ```"
   ]
  },
  {
   "cell_type": "markdown",
   "id": "d03486c0",
   "metadata": {},
   "source": [
    "## Histograms\n",
    "\n",
    "This visualization is useful because it shows us the entire distribution of values within a variable.\n",
    "\n",
    "```\n",
    "import matplotlib.pyplot as plt\n",
    "fig, ax = plt.subplots()\n",
    "ax.hist(df1[\"Record\"])\n",
    "ax.hist(df2[\"Record\"])\n",
    "ax.set_xlabel(\"Height (cm)\")\n",
    "ax.set_ylabel(\"# of observations\")\n",
    "plt.show()\n",
    "```"
   ]
  },
  {
   "cell_type": "markdown",
   "id": "a4aae5aa",
   "metadata": {},
   "source": [
    "### Labels are needed\n",
    "\n",
    "- Because the x-axis label no longer provides information about which color represents which variable, labels are really needed in histograms.\n",
    "- As before, we can label a variable by calling the ``hist`` method with the ``label`` key-word argument and then calling the ``legend`` method before we call ``plt.show()``, so that a legend appears in the figure.\n",
    "\n",
    "```\n",
    "import matplotlib.pyplot as plt\n",
    "fig, ax = plt.subplots()\n",
    "ax.hist(df1[\"Record\"], label='Rowing')\n",
    "ax.hist(df2[\"Record\"], label='Gymnastics')\n",
    "ax.set_xlabel(\"Height (cm)\")\n",
    "ax.set_ylabel(\"# of observations\")\n",
    "ax.legend()\n",
    "plt.show()\n",
    "```"
   ]
  },
  {
   "cell_type": "markdown",
   "id": "321f4566",
   "metadata": {},
   "source": [
    "### Setting number of bins\n",
    "\n",
    "- Per default, the number of bars or bins in a histogram is 10, but we can customize that.\n",
    "- If we provide an integer number to the bins key-word argument, the histogram will have that number of bins.\n",
    "\n",
    "```\n",
    "import matplotlib.pyplot as plt\n",
    "fig, ax = plt.subplots()\n",
    "ax.hist(df1[\"Record\"], label='Rowing', bins=5)\n",
    "ax.hist(df2[\"Record\"], label='Gymnastics', bins=5)\n",
    "ax.set_xlabel(\"Height (cm)\")\n",
    "ax.set_ylabel(\"# of observations\")\n",
    "ax.legend()\n",
    "plt.show()\n",
    "```"
   ]
  },
  {
   "cell_type": "markdown",
   "id": "f9069474",
   "metadata": {},
   "source": [
    "### Setting bin boundaries\n",
    "\n",
    "- If we instead provide a sequence of values, these numbers will be set to be the boundaries between the bins.\n",
    "- If we provide an integer number to the bins key-word argument, the histogram will have that number of bins.\n",
    "\n",
    "```\n",
    "import matplotlib.pyplot as plt\n",
    "fig, ax = plt.subplots()\n",
    "ax.hist(df1[\"Record\"], label='Rowing', bins=[150, 160, 170, 180, 190, 200, 210])\n",
    "ax.hist(df2[\"Record\"], label='Gymnastics', bins=[150, 160, 170, 180, 190, 200, 210])\n",
    "ax.set_xlabel(\"Height (cm)\")\n",
    "ax.set_ylabel(\"# of observations\")\n",
    "ax.legend()\n",
    "plt.show()\n",
    "```"
   ]
  },
  {
   "cell_type": "markdown",
   "id": "966d21e3",
   "metadata": {},
   "source": [
    "### Transparency\n",
    "\n",
    "- The occlusion between histograms can be eliminated by changing the type of histogram that is used.\n",
    "- Instead of the \"bar\" type that is used per default, you can specify a ``histtype`` of \"step\".\n",
    "   - Displays the histogram as thin lines, instead of solid bars.\n",
    "\n",
    "```\n",
    "import matplotlib.pyplot as plt\n",
    "fig, ax = plt.subplots()\n",
    "ax.hist(df1[\"Record\"], label='Rowing',\n",
    "        bins=[150, 160, 170, 180, 190, 200, 210],\n",
    "        histtype=\"step\")\n",
    "ax.hist(df2[\"Record\"], label='Gymnastics',\n",
    "        bins=[150, 160, 170, 180, 190, 200, 210],\n",
    "        histtype=\"step\")\n",
    "ax.set_xlabel(\"Height (cm)\")\n",
    "ax.set_ylabel(\"# of observations\")\n",
    "ax.legend()\n",
    "plt.show()\n",
    "```"
   ]
  },
  {
   "cell_type": "markdown",
   "id": "ca0b1eb6",
   "metadata": {},
   "source": [
    "## Statistical plotting\n",
    "\n",
    "Statistical plotting is a set of methods for using visualization to make comparisons. We will use 2 techinques for doing so: error bars in plots and boxplots"
   ]
  },
  {
   "cell_type": "markdown",
   "id": "e69f4afc",
   "metadata": {},
   "source": [
    "### Error bars: in bar charts\n",
    "\n",
    "- Additional markers on a plot or bar chart that tell us something about the distribution of the data.\n",
    "- Summarize the distribution of the data in one number, such as the standard deviation of the values.\n",
    "- We add the error bar as an argument to a bar chart.\n",
    "   - Each call to the ``ax.bar()`` method takes an x argument and a y argument.\n",
    "   - In this case, y is the mean of the \"Height\" column.\n",
    "   - The ``yerr`` key-word argument takes an additional number. In this case, the standard deviation of the \"Height\" column, and displays that as an additional vertical marker.\n",
    "\n",
    " ```\n",
    "import matplotlib.pyplot as plt\n",
    "fig, ax = plt.subplots()\n",
    "\n",
    "ax.bar('Title_1',\n",
    "       df1[\"Record_1\"].mean(),\n",
    "       yerr=df1[\"Record_1\"].std())\n",
    "\n",
    "ax.bar('Title_2',\n",
    "       df2[\"Record_1\"].mean(),\n",
    "       yerr=df2[\"Record_1\"].std())\n",
    "\n",
    "ax.set_ylabel(\"Height (cm)\")\n",
    "\n",
    "plt.show()\n",
    "```"
   ]
  },
  {
   "cell_type": "markdown",
   "id": "a4aba79b",
   "metadata": {},
   "source": [
    "### Error bars: in plots\n",
    "\n",
    "- To plot this data with error bars, we will use the Axes ``errorbar`` method.\n",
    "- Like the plot method, this method takes a sequence of x values and a sequence of y values.\n",
    "- In addition, a ``yerr`` key-word argument can take the column in the data that contains the standard deviations\n",
    "\n",
    "```\n",
    "fig, ax = plt.subplots()\n",
    "\n",
    "ax.errorbar(df1['column_1'],\n",
    "            df1['column_2_average'],\n",
    "            yerr=df1[column_2_std'])\n",
    "\n",
    "ax.errorbar(df2['column_1'],\n",
    "            df2['column_2_average'],\n",
    "            yerr=df2[column_2_std'])\n",
    "\n",
    "ax.set_ylabel(\"Temperature (Fahrenheit)\")\n",
    "\n",
    "plt.show()\n",
    "```"
   ]
  },
  {
   "cell_type": "markdown",
   "id": "934e4263",
   "metadata": {},
   "source": [
    "### Boxplots\n",
    "\n",
    "- A visualization technique invented by John Tukey\n",
    "- It is implemented as a method of the Axes object.\n",
    "- We can call it with a sequence of sequences.\n",
    "- Because the box-plot doesn't know the labels on each of the variables, we add that separately, labeling the y-axis as well.\n",
    "\n",
    "```\n",
    "fig, ax = plt.subplots()\n",
    "\n",
    "ax.boxplot([df1['Record_A'],\n",
    "            df2['Record_A']])\n",
    "\n",
    "ax.set_xticklabels(['Rowing', 'Gymnastics'])\n",
    "ax.set_ylabel(\"Height (cm)\")\n",
    "\n",
    "plt.show()\n",
    "```"
   ]
  },
  {
   "cell_type": "markdown",
   "id": "874c688a",
   "metadata": {},
   "source": [
    "#### Intepreting boxplots\n",
    "\n",
    "- This kind of plot shows us several landmarks in each distribution.\n",
    "   1. The red line indicates the median height.\n",
    "   2. The edges of the box portion at the center indicate the inter-quartile range of the data, between the 25th and the 75th percentiles.\n",
    "   3. The whiskers at the ends of the thin bars indicate one and a half times the size of the inter-quartile range beyond the 75th and 25th percentiles.\n",
    "   - The first 3 elements should encompass roughly 99 percent of the distribution if the data is Gaussian or normal.\n",
    "   4. Points that appear beyond the whiskers are outliers. That means that they have values larger or smaller than what you would expect for 99 percent of the data in a Gaussian or normal distribution."
   ]
  },
  {
   "cell_type": "markdown",
   "id": "f5782771",
   "metadata": {},
   "source": [
    "## Scatter plots\n",
    "\n",
    "A standard visualization for bi-variate comparisons is a scatter plot.\n",
    "\n",
    "```\n",
    "fig, ax = plt.subplots()\n",
    "\n",
    "ax.scatter(df['x'], df['y])\n",
    "\n",
    "ax.set_xlabel(\"CO2 (ppm)\")\n",
    "ax.set_ylabel(\"Relative temperature (Celsius)\")\n",
    "\n",
    "plt.show()\n",
    "```"
   ]
  },
  {
   "cell_type": "markdown",
   "id": "e76e4f08",
   "metadata": {},
   "source": [
    "### Customizing scatter plots\n",
    "\n",
    "- We can customize scatter plots in a manner that is similar to the customization that we introduced in other plots.\n",
    "- i.e plot two scatter plots on the same axes.\n",
    "\n",
    "```\n",
    "eighties = df[\"1980-01-01\":\"1989-12-31\"]\n",
    "ninties = df[\"1990-01-01\":\"1999-12-31\"]\n",
    "\n",
    "fig, ax = plt.subplots()\n",
    "\n",
    "ax.scatter(eighties['x'], eighties['y], color='red', label='eighties')\n",
    "ax.scatter(ninties['x'], ninties['y], color='blue', label='ninties')\n",
    "\n",
    "ax.legend()\n",
    "\n",
    "ax.set_xlabel(\"CO2 (ppm)\")\n",
    "ax.set_ylabel(\"Relative temperature (Celsius)\")\n",
    "\n",
    "plt.show()\n",
    "```\n"
   ]
  },
  {
   "cell_type": "markdown",
   "id": "cfd13c26",
   "metadata": {},
   "source": [
    "### Encoding a third variable by color\n",
    "\n",
    "- We can also use the color of the points to encode a third variable, providing additional information about the comparison.\n",
    "- If we enter the index as input to the ``c`` key-word argument, this variable will get encoded as color.\n",
    "\n",
    "```\n",
    "fig, ax = plt.subplots()\n",
    "\n",
    "ax.scatter(eighties['x'], eighties['y], c='df.index')\n",
    "\n",
    "ax.set_xlabel(\"CO2 (ppm)\")\n",
    "ax.set_ylabel(\"Relative temperature (Celsius)\")\n",
    "\n",
    "plt.show()\n",
    "```\n"
   ]
  },
  {
   "cell_type": "markdown",
   "id": "76bc7d50",
   "metadata": {},
   "source": [
    "# 6.4 Sharing visualizations with others\n",
    "\n",
    "In here, we will focus on creating visualizations that you can share with others and incorporate into automated data analysis pipelines.\n",
    "\n",
    "```\n",
    "import matplotlib.pyplot as plt\n",
    "fig, ax = plt.subplots()\n",
    "ax.plot(df1['column_1'], df1['column_2'])\n",
    "ax.plot(df2['column_1'], df2['column_2'])\n",
    "ax.set_xlabel(\"Time (months)\")\n",
    "ax.set_ylabel(\"Avg temperature (Fahrenheit degrees)\")\n",
    "```"
   ]
  },
  {
   "cell_type": "markdown",
   "id": "cd9d0d5e",
   "metadata": {},
   "source": [
    "## Chosing plot style\n",
    "\n",
    "If we add this line of code before the plotting code ``plt.style.use()``, the figure style will look completely different.\n",
    "- The setting of the style won't change the appearance of just one element in the figure. Rather, it changed multiple elements: the colors are different, the fonts used in the text are different, and there is an added gray background that creates a faint white grid marking the x-axis and y-axis tick locations within the plot area.\n",
    "- Available styles found [here](https://matplotlib.org/stable/gallery/style_sheets/style_sheets_reference.html).\n",
    "   - This is the default style: \"default\"\n",
    "   - This is the R library ggplot style: \"ggplot\" \n",
    "   - This is the \"bmh\" style: \"bmh\"\n",
    "   - Some seaborn styles: \"seaborn-colorblind\"\n",
    "\n",
    "```\n",
    "import matplotlib.pyplot as plt\n",
    "\n",
    "plt.style.use(\"style_name\")\n",
    "\n",
    "fig, ax = plt.subplots()\n",
    "ax.plot(df1['column_1'], df1['column_2'])\n",
    "ax.plot(df2['column_1'], df2['column_2'])\n",
    "ax.set_xlabel(\"Time (months)\")\n",
    "ax.set_ylabel(\"Avg temperature (Fahrenheit degrees)\")\n",
    "```"
   ]
  },
  {
   "cell_type": "markdown",
   "id": "e93cea3a",
   "metadata": {},
   "source": [
    "### Guidelines for choosing plotting style\n",
    "\n",
    "- Dark backgrounds are generally discouraged as they are less visible\n",
    "- If colors are important, consider using a colorblind-friendly style\n",
    "- If someone is going to print out your figures, you might want to use less ink (that is, avoid colored backgrounds)\n",
    "- If the printer used is likely to be black-and-white, consider using the \"grayscale\" style."
   ]
  },
  {
   "cell_type": "markdown",
   "id": "321d7794",
   "metadata": {},
   "source": [
    "## Sharing your visualizations with others\n",
    "\n",
    "After you have created your visualizations, you are ready to share them with your collaborators. This involves doing final customizations to your figures, and saving them in an appropriate format."
   ]
  },
  {
   "cell_type": "markdown",
   "id": "2be1a445",
   "metadata": {},
   "source": [
    "### A figure to share\n",
    "\n",
    "- This is product of calling the ``plt.show()`` method`.\n",
    "\n",
    " ```\n",
    "import matplotlib.pyplot as plt\n",
    "\n",
    "fig, ax = plt.subplots()\n",
    "ax.bar(df.index, df['column_1'])\n",
    "ax.set_xticklabels(df.index, rotation=90)\n",
    "ax.set_ylabel(\"Number of medals\")\n",
    "\n",
    "plt.show()\n",
    " ```"
   ]
  },
  {
   "cell_type": "markdown",
   "id": "e449c341",
   "metadata": {},
   "source": [
    "### Saving the figure to file\n",
    "\n",
    "- We replace the call to ``plt.show()`` with a call to the Figure object's ``savefig()`` method. \n",
    "- We provide a file-name as input to the function. If we do this, the figure will no longer appear on our screen, but instead appear as a file on our file-system called \"file-name\".\n",
    "- In the interactive Python Shell, we must call the ``ls`` UNIX function.\n",
    "- We can then share this file that now contains the visualization with others.\n",
    "\n",
    " ```\n",
    "import matplotlib.pyplot as plt\n",
    "\n",
    "fig, ax = plt.subplots()\n",
    "ax.bar(df.index, df['column_1'])\n",
    "ax.set_xticklabels(df.index, rotation=90)\n",
    "ax.set_ylabel(\"Number of medals\")\n",
    "\n",
    "fig.savefig(\"file-name.png\")\n",
    " ```"
   ]
  },
  {
   "cell_type": "markdown",
   "id": "435797b5",
   "metadata": {},
   "source": [
    "### Different file formats\n",
    "\n",
    "1. PNG: This file format provides lossless compression of your image (will retain high quality, but relative large ammount of diskspace). ``fig.savefig(\"file-name.png\")``\n",
    "2. JPG: if the image is going to be part of a website (uses lossy compression, can be used to create figures that take up less diskspace). ``fig.savefig(\"file-name.jpg\", quality=50)``\n",
    "   - You can control how small the resulting file will be, and the degree of loss of quality, by setting the ``quality`` key-word argument.`\n",
    "   - This will be a number between 1 and 100, but you should avoid values above 95, because at that point the compression is no longer effective.\n",
    "3. SVG: will produce a vector graphics file where different elements can be edited in detail by advanced graphics software. ``fig.savefig(\"file-name.svg\")``"
   ]
  },
  {
   "cell_type": "markdown",
   "id": "d9e58fc9",
   "metadata": {},
   "source": [
    "### Resolution (DPI or dots per inch)\n",
    "\n",
    "- Another key-word that you can use to control the quality of the images that you produce is the ``dpi`` key-word argument.\n",
    "- The higher this number, the more densely the image will be rendered.\n",
    "   - The higher the resolution that you ask for, the larger the file-size will be.\n",
    "\n",
    "``fig.savefig(\"file-name.png\", dpi=300)``"
   ]
  },
  {
   "cell_type": "markdown",
   "id": "ec818960",
   "metadata": {},
   "source": [
    "### Size\n",
    "\n",
    "- To control this, the Figure object also has a function called ``set_size_inches()``.\n",
    "- This function takes a sequence of numbers.\n",
    "   - The first number sets the width of the figure on the page.\n",
    "   - The second number sets the height of the figure.\n",
    "\n",
    "``fig.set_size_inches([5, 3])``"
   ]
  },
  {
   "cell_type": "markdown",
   "id": "958bc920",
   "metadata": {},
   "source": [
    "## Automating figures from data\n",
    "\n",
    "One of the strengths of Matplotlib is that, when programmed correctly, it can flexibly adapt to the inputs that are provided.\n",
    "\n",
    "**Automate** means that you can write functions and programs that automatically adjust what they are doing based on the input data. Why automate?\n",
    "1. Ease and speed\n",
    "2. Flexibility\n",
    "3. Robustness\n",
    "4. Reproductibility"
   ]
  },
  {
   "cell_type": "markdown",
   "id": "ce70e132",
   "metadata": {},
   "source": [
    "### How many different kinds of data?\n",
    "\n",
    "1. Getting unique values of a column (what to expect in output)\n",
    "2. Bar-chart of heights for all sports\n",
    "3. Figure derived from the data (no need to know unique values)\n",
    "\n",
    "```\n",
    "import matplotlib.pyplot as plt\n",
    "import pandas as pd\n",
    "\n",
    "# Step 1\n",
    "sports = summer_2016_medals[\"Sport\"].unique()\n",
    "\n",
    "# Step 2\n",
    "fig, ax = plt.subplots()\n",
    "\n",
    "for sport in sports:\n",
    "    sport_df = summer_2016_medals[summer_2016_medals[\"Sport\"] == sport] # create small dataframe\n",
    "    ax.bar(sport, sport_df['Height'].mean(), yerr=sport_df['Height'].std())\n",
    "ax.set_ylabel(\"Height (cm)\")\n",
    "ax-set_xticklables(sports, rotation=90)\n",
    "\n",
    "# Step 3\n",
    "plt.show()\n",
    "```"
   ]
  }
 ],
 "metadata": {
  "colab": {
   "provenance": []
  },
  "kernelspec": {
   "display_name": "Python 3 (ipykernel)",
   "language": "python",
   "name": "python3"
  },
  "language_info": {
   "codemirror_mode": {
    "name": "ipython",
    "version": 3
   },
   "file_extension": ".py",
   "mimetype": "text/x-python",
   "name": "python",
   "nbconvert_exporter": "python",
   "pygments_lexer": "ipython3",
   "version": "3.12.4"
  }
 },
 "nbformat": 4,
 "nbformat_minor": 5
}
